{
  "nbformat": 4,
  "nbformat_minor": 0,
  "metadata": {
    "colab": {
      "provenance": [],
      "authorship_tag": "ABX9TyMTrjhk6saWCSoqp0GpTjFj",
      "include_colab_link": true
    },
    "kernelspec": {
      "name": "python3",
      "display_name": "Python 3"
    },
    "language_info": {
      "name": "python"
    }
  },
  "cells": [
    {
      "cell_type": "markdown",
      "metadata": {
        "id": "view-in-github",
        "colab_type": "text"
      },
      "source": [
        "<a href=\"https://colab.research.google.com/github/cuixianze/reinforce-learning/blob/main/kuhn_poker_CFR_itr_ipynb%EC%9D%98_%EC%82%AC%EB%B3%B8.ipynb\" target=\"_parent\"><img src=\"https://colab.research.google.com/assets/colab-badge.svg\" alt=\"Open In Colab\"/></a>"
      ]
    },
    {
      "cell_type": "code",
      "execution_count": null,
      "metadata": {
        "colab": {
          "base_uri": "https://localhost:8080/"
        },
        "id": "Ywc9in__xFAC",
        "outputId": "308c7388-8b70-4375-cb48-055aea9774ca"
      },
      "outputs": [
        {
          "output_type": "stream",
          "name": "stdout",
          "text": [
            "A:: Pass=0.67, Bet=0.33\n",
            "A:b: Pass=1.00, Bet=0.00\n",
            "A:p: Pass=1.00, Bet=0.00\n",
            "A:pb: Pass=1.00, Bet=0.00\n",
            "B:: Pass=1.00, Bet=0.00\n",
            "B:b: Pass=0.67, Bet=0.33\n",
            "B:p: Pass=1.00, Bet=0.00\n",
            "B:pb: Pass=1.00, Bet=0.00\n",
            "C:: Pass=0.00, Bet=1.00\n",
            "C:b: Pass=0.00, Bet=1.00\n",
            "C:p: Pass=0.00, Bet=1.00\n",
            "C:pb: Pass=0.03, Bet=0.97\n"
          ]
        }
      ],
      "source": [
        "import random\n",
        "from collections import defaultdict\n",
        "\n",
        "class KuhnPokerCFR:\n",
        "    def __init__(self):\n",
        "        self.cards = ['A', 'B', 'C']\n",
        "        self.regret_sum = defaultdict(lambda: [0.0, 0.0])  # regret for actions [pass, bet]\n",
        "        self.strategy_sum = defaultdict(lambda: [0.0, 0.0])\n",
        "        self.actions = ['p', 'b']  # p = pass/check, b = bet\n",
        "\n",
        "    def get_strategy(self, info_set, realization_weight):\n",
        "        regrets = self.regret_sum[info_set]\n",
        "        positive_regrets = [r if r > 0 else 0 for r in regrets]\n",
        "        normalizing_sum = sum(positive_regrets)\n",
        "\n",
        "        if normalizing_sum > 0:\n",
        "            strategy = [r / normalizing_sum for r in positive_regrets]\n",
        "        else:\n",
        "            strategy = [0.5, 0.5]\n",
        "\n",
        "        # 평균 전략 업데이트\n",
        "        for i in range(2):\n",
        "            self.strategy_sum[info_set][i] += realization_weight * strategy[i]\n",
        "\n",
        "        return strategy\n",
        "\n",
        "    def get_action(self, strategy):\n",
        "        r = random.random()\n",
        "        return 0 if r < strategy[0] else 1\n",
        "\n",
        "    def cfr(self, history, cards, p0, p1, player):\n",
        "        opponent = 1 - player\n",
        "        info_set = cards[player] + \":\" + history\n",
        "\n",
        "        if self.is_terminal(history):\n",
        "            return self.get_payoff(history, cards, player)\n",
        "\n",
        "        strategy = self.get_strategy(info_set, p0 if player == 0 else p1)\n",
        "        util = [0.0, 0.0]\n",
        "        node_util = 0.0\n",
        "\n",
        "        for a in range(2):\n",
        "            next_history = history + self.actions[a]\n",
        "            if player == 0:\n",
        "                util[a] = -self.cfr(next_history, cards, p0 * strategy[a], p1, 1)\n",
        "            else:\n",
        "                util[a] = -self.cfr(next_history, cards, p0, p1 * strategy[a], 0)\n",
        "            node_util += strategy[a] * util[a]\n",
        "\n",
        "        for a in range(2):\n",
        "            regret = util[a] - node_util\n",
        "            if player == 0:\n",
        "                self.regret_sum[info_set][a] += p1 * regret\n",
        "            else:\n",
        "                self.regret_sum[info_set][a] += p0 * regret\n",
        "\n",
        "        return node_util\n",
        "\n",
        "    def is_terminal(self, history):\n",
        "        return history in [\"pp\", \"pbp\", \"pbb\", \"bb\", \"bp\"]\n",
        "\n",
        "    def get_payoff(self, history, cards, player):\n",
        "        opponent = 1 - player\n",
        "        if history == \"pp\":\n",
        "            return 1 if cards[player] > cards[opponent] else -1\n",
        "        elif history == \"pbp\":\n",
        "            return 1 if cards[player] > cards[opponent] else -1\n",
        "        elif history == \"pbb\":\n",
        "            return 2 if cards[player] > cards[opponent] else -2\n",
        "        elif history == \"bb\":\n",
        "            return 2 if cards[player] > cards[opponent] else -2\n",
        "        elif history == \"bp\":\n",
        "            return 1 if player == 0 else -1  # player 0이 베팅했고, 1이 폴드한 상황\n",
        "        return 0\n",
        "\n",
        "\n",
        "    def train(self, iterations):\n",
        "        for i in range(iterations):\n",
        "            cards = self.cards[:]\n",
        "            random.shuffle(cards)\n",
        "            self.cfr(\"\", cards, 1.0, 1.0, 0)\n",
        "\n",
        "    def get_average_strategy(self):\n",
        "        average_strategy = {}\n",
        "        for info_set in self.strategy_sum:\n",
        "            strategy = self.strategy_sum[info_set]\n",
        "            normalizing_sum = sum(strategy)\n",
        "            if normalizing_sum > 0:\n",
        "                average = [x / normalizing_sum for x in strategy]\n",
        "            else:\n",
        "                average = [0.5, 0.5]\n",
        "            average_strategy[info_set] = average\n",
        "        return average_strategy\n",
        "\n",
        "# 사용 예시\n",
        "cfr = KuhnPokerCFR()\n",
        "cfr.train(5000000)\n",
        "for info_set, strategy in sorted(cfr.get_average_strategy().items()):\n",
        "    print(f\"{info_set}: Pass={strategy[0]:.2f}, Bet={strategy[1]:.2f}\")\n",
        "\n"
      ]
    },
    {
      "cell_type": "code",
      "source": [
        "\n",
        "for i in sorted(cfr.regret_sum.items()):\n",
        "  print(i)"
      ],
      "metadata": {
        "colab": {
          "base_uri": "https://localhost:8080/"
        },
        "id": "Zm_R6f0ux2gL",
        "outputId": "95d25aae-4766-45df-b42a-e0d6650e61b1"
      },
      "execution_count": null,
      "outputs": [
        {
          "output_type": "stream",
          "name": "stdout",
          "text": [
            "('A:', [-36.757123933155306, 541.6200040579884])\n",
            "('A:b', [0.25, -832581.75])\n",
            "('A:p', [0.125, -5.375])\n",
            "('A:pb', [0.25, -833765.9668498458])\n",
            "('B:', [1.0, -833121.25])\n",
            "('B:b', [540.0780066497488, -1549.492268943936])\n",
            "('B:p', [1.04071918343522, -2.044592621447986])\n",
            "('B:pb', [0.25, -833123.25])\n",
            "('C:', [-277449.53823086387, 1.340345538370328])\n",
            "('C:b', [-833880.3005133941, 0.75])\n",
            "('C:p', [-0.125, 0.125])\n",
            "('C:pb', [-8.369474974302193, 0.25])\n"
          ]
        }
      ]
    },
    {
      "cell_type": "code",
      "source": [
        "for i in sorted(cfr.strategy_sum.items()):\n",
        "  print(i)\n",
        "\n"
      ],
      "metadata": {
        "colab": {
          "base_uri": "https://localhost:8080/"
        },
        "id": "Vbp3sx83ybYW",
        "outputId": "0af82d9d-4b93-4156-bb4e-a5b6b9159b11"
      },
      "execution_count": null,
      "outputs": [
        {
          "output_type": "stream",
          "name": "stdout",
          "text": [
            "('A:', [1111243.826691325, 555414.1733086652])\n",
            "('A:b', [1665757.5, 0.5])\n",
            "('A:p', [1665757.5, 0.5])\n",
            "('A:pb', [1111243.576691325, 0.25])\n",
            "('B:', [1666292.625, 2.375])\n",
            "('B:b', [1112746.6276579536, 554612.3723420489])\n",
            "('B:p', [1667343.66367518, 15.336324820115394])\n",
            "('B:pb', [1666292.125, 0.5])\n",
            "('C:', [8.835311804883206, 1667038.164688195])\n",
            "('C:b', [0.5, 1666882.5])\n",
            "('C:p', [0.5, 1666882.5])\n",
            "('C:pb', [0.25, 8.585311804883206])\n"
          ]
        }
      ]
    },
    {
      "cell_type": "code",
      "source": [
        "print(sorted([\"A\",\"B\",\"C\"]))\n",
        "print(\"A\">\"B\")"
      ],
      "metadata": {
        "colab": {
          "base_uri": "https://localhost:8080/"
        },
        "id": "eansojco0BSI",
        "outputId": "b8f27f52-bb04-4e48-e914-331c78322efe"
      },
      "execution_count": null,
      "outputs": [
        {
          "output_type": "stream",
          "name": "stdout",
          "text": [
            "['A', 'B', 'C']\n",
            "False\n"
          ]
        }
      ]
    }
  ]
}